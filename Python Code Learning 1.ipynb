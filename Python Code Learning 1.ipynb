{
  "nbformat": 4,
  "nbformat_minor": 0,
  "metadata": {
    "colab": {
      "provenance": []
    },
    "kernelspec": {
      "name": "python3",
      "display_name": "Python 3"
    },
    "language_info": {
      "name": "python"
    }
  },
  "cells": [
    {
      "cell_type": "code",
      "execution_count": 3,
      "metadata": {
        "colab": {
          "base_uri": "https://localhost:8080/"
        },
        "id": "bHTY3Muk6odX",
        "outputId": "e3c75700-6d84-4d1f-92f1-1e6650579308"
      },
      "outputs": [
        {
          "output_type": "stream",
          "name": "stdout",
          "text": [
            "kartik\n"
          ]
        }
      ],
      "source": [
        "myname = \"kartik\"\n",
        "print(myname)"
      ]
    },
    {
      "cell_type": "code",
      "source": [
        "# add two numbers,using functions.\n",
        "\n",
        "num1= 10\n",
        "num2= 20\n",
        "\n",
        "total = num1+num2\n",
        "print(total)"
      ],
      "metadata": {
        "colab": {
          "base_uri": "https://localhost:8080/"
        },
        "id": "Kxo9muqb70JL",
        "outputId": "aeed66e6-82db-466e-edba-680c4c92e1c6"
      },
      "execution_count": 4,
      "outputs": [
        {
          "output_type": "stream",
          "name": "stdout",
          "text": [
            "30\n"
          ]
        }
      ]
    },
    {
      "cell_type": "code",
      "source": [
        "# add two numbers,using functions.\n",
        "\n",
        "def add_numbers(num1, num2):\n",
        "    return num1 + num2\n",
        "\n",
        "result = add_numbers(3, 5)\n",
        "print(result)\n",
        "\n",
        "\n",
        "\n"
      ],
      "metadata": {
        "colab": {
          "base_uri": "https://localhost:8080/"
        },
        "id": "UYaB8gxD8as6",
        "outputId": "3398b2cd-9e92-4ea6-9d41-f2839980dfb8"
      },
      "execution_count": 8,
      "outputs": [
        {
          "output_type": "stream",
          "name": "stdout",
          "text": [
            "8\n"
          ]
        }
      ]
    },
    {
      "cell_type": "code",
      "source": [
        "# print my name using function\n",
        "\n",
        "def myname(name):\n",
        "  return name\n",
        "\n",
        "result = myname(\"Shiva\")\n",
        "print(\"my name is\", result)"
      ],
      "metadata": {
        "colab": {
          "base_uri": "https://localhost:8080/"
        },
        "id": "MIZR07mV_UQL",
        "outputId": "bb3779a2-4b98-4e5c-e04d-5683c386a1e0"
      },
      "execution_count": 9,
      "outputs": [
        {
          "output_type": "stream",
          "name": "stdout",
          "text": [
            "my name is Shiva\n"
          ]
        }
      ]
    },
    {
      "cell_type": "code",
      "source": [
        "def myname():\n",
        "    return \"kartik\"\n",
        "\n",
        "name = myname()\n",
        "print(name)"
      ],
      "metadata": {
        "colab": {
          "base_uri": "https://localhost:8080/"
        },
        "id": "FIS8PYBH8IDd",
        "outputId": "b036ba5d-2f68-45b6-bbea-e6fca0a2f0e9"
      },
      "execution_count": 14,
      "outputs": [
        {
          "output_type": "stream",
          "name": "stdout",
          "text": [
            "kartik\n"
          ]
        }
      ]
    },
    {
      "cell_type": "code",
      "source": [
        "def is_even(number):\n",
        "  if number %2 == 0:\n",
        "    return True\n",
        "  else:\n",
        "    return False\n",
        "\n",
        "print(is_even(9))"
      ],
      "metadata": {
        "colab": {
          "base_uri": "https://localhost:8080/"
        },
        "id": "mrXnqeExUeH1",
        "outputId": "9df73d25-5ff9-4f81-d813-8debe11e41b7"
      },
      "execution_count": 13,
      "outputs": [
        {
          "output_type": "stream",
          "name": "stdout",
          "text": [
            "False\n"
          ]
        }
      ]
    },
    {
      "cell_type": "code",
      "source": [],
      "metadata": {
        "id": "fa4Q1y79YMID"
      },
      "execution_count": null,
      "outputs": []
    }
  ]
}